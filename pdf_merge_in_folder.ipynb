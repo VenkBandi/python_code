{
 "cells": [
  {
   "cell_type": "code",
   "execution_count": 2,
   "metadata": {},
   "outputs": [],
   "source": [
    "import os\n",
    "import fitz  # PyMuPDF\n",
    "\n",
    "def merge_first_pages(folder_path, output_filename):\n",
    "    pdf_writer = fitz.open()\n",
    "\n",
    "    # Iterate through each PDF file in the folder\n",
    "    for filename in os.listdir(folder_path):\n",
    "        if filename.endswith('.pdf'):\n",
    "            file_path = os.path.join(folder_path, filename)\n",
    "            pdf_reader = fitz.open(file_path)\n",
    "            # Merge only the first page\n",
    "            pdf_writer.insert_pdf(pdf_reader, from_page=0, to_page=0)\n",
    "\n",
    "    # Write the merged PDF to a file in the same folder\n",
    "    output_path = os.path.join(folder_path, output_filename)\n",
    "    pdf_writer.save(output_path)\n",
    "\n",
    "# Specify the folder path\n",
    "folder_path = 'pdf'\n",
    "# Specify the output filename\n",
    "output_filename = 'merged_first_pages.pdf'\n",
    "\n",
    "# Get the absolute path of the current directory\n",
    "current_directory = os.getcwd()\n",
    "\n",
    "# Join the current directory with the folder name\n",
    "folder_path = os.path.join(current_directory, folder_path)\n",
    "\n",
    "# Call the function to merge the PDFs\n",
    "merge_first_pages(folder_path, output_filename)\n"
   ]
  },
  {
   "cell_type": "code",
   "execution_count": null,
   "metadata": {},
   "outputs": [],
   "source": []
  }
 ],
 "metadata": {
  "kernelspec": {
   "display_name": "base",
   "language": "python",
   "name": "python3"
  },
  "language_info": {
   "codemirror_mode": {
    "name": "ipython",
    "version": 3
   },
   "file_extension": ".py",
   "mimetype": "text/x-python",
   "name": "python",
   "nbconvert_exporter": "python",
   "pygments_lexer": "ipython3",
   "version": "3.11.5"
  }
 },
 "nbformat": 4,
 "nbformat_minor": 2
}

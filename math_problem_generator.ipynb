{
 "cells": [
  {
   "cell_type": "code",
   "execution_count": 5,
   "metadata": {},
   "outputs": [
    {
     "name": "stdout",
     "output_type": "stream",
     "text": [
      "PDF file 'addition_problems.pdf' created successfully.\n"
     ]
    }
   ],
   "source": [
    "from reportlab.lib.pagesizes import letter\n",
    "from reportlab.pdfgen import canvas\n",
    "import random\n",
    "\n",
    "def generate_decimal_addition_problem():\n",
    "    num1 = round(random.uniform(1, 999), 2)\n",
    "    num2 = round(random.uniform(1, 9999), 2)\n",
    "    return num1, num2\n",
    "\n",
    "# Generate addition problems\n",
    "problems = []\n",
    "for i in range(10):\n",
    "    num1, num2 = generate_decimal_addition_problem()\n",
    "    problem = f\"{num1:7.2f} + {num2:7.2f} =\"\n",
    "    problems.append(problem)\n",
    "\n",
    "# Create PDF\n",
    "pdf_filename = \"addition_problems.pdf\"\n",
    "c = canvas.Canvas(pdf_filename, pagesize=letter)\n",
    "y = 750\n",
    "for problem in problems:\n",
    "    c.drawString(100, y, problem)\n",
    "    y -= 40  # Reduce the vertical spacing between lines\n",
    "\n",
    "c.save()\n",
    "\n",
    "print(f\"PDF file '{pdf_filename}' created successfully.\")\n"
   ]
  },
  {
   "cell_type": "code",
   "execution_count": null,
   "metadata": {},
   "outputs": [],
   "source": []
  }
 ],
 "metadata": {
  "kernelspec": {
   "display_name": "base",
   "language": "python",
   "name": "python3"
  },
  "language_info": {
   "codemirror_mode": {
    "name": "ipython",
    "version": 3
   },
   "file_extension": ".py",
   "mimetype": "text/x-python",
   "name": "python",
   "nbconvert_exporter": "python",
   "pygments_lexer": "ipython3",
   "version": "3.11.5"
  }
 },
 "nbformat": 4,
 "nbformat_minor": 2
}

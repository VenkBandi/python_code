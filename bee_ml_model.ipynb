{
 "cells": [
  {
   "cell_type": "code",
   "execution_count": 2,
   "metadata": {},
   "outputs": [],
   "source": [
    "import pandas as pd\n",
    "import numpy as np\n",
    "import datetime\n",
    "import holidays\n",
    "import pytz\n",
    "from dateutil import parser\n",
    "\n",
    "#csv reading\n",
    "file_path = 'building_ctrl_cmd.csv'\n",
    "df = pd.read_csv(file_path)\n",
    "\n",
    "# Drop rows where the condition is met from the original DataFrame\n",
    "df.drop(df[df['sourceid'] != 'HC-AI200-AL103'].index, inplace=True)\n",
    "\n",
    "\n",
    "df = pd.DataFrame(df)\n",
    "df['timestamp'] = pd.to_datetime(df['timestamp'] // 1e9, unit='s')\n",
    "df['timestamp'] = pd.to_datetime(df['timestamp'])\n",
    "def convert_to_finland(timestamp):\n",
    "    utc_timezone = pytz.timezone('UTC')\n",
    "    finland_timezone = pytz.timezone('Europe/Helsinki')\n",
    "    utc_time = pd.to_datetime(timestamp, unit='s', origin='unix').tz_localize(utc_timezone)\n",
    "    finland_time = utc_time.astimezone(finland_timezone)\n",
    "    return finland_time\n",
    "\n",
    "# Apply the conversion function to each timestamp in the DataFrame\n",
    "df['timestampFinland'] = df['timestamp'].apply(convert_to_finland)\n",
    "df = df[['timestamp','timestampFinland','value']]\n",
    "df = df.sort_values(by='timestampFinland').reset_index()\n",
    "df['date'] = df['timestampFinland'].dt.date\n",
    "df.drop('index', axis=1, inplace=True)"
   ]
  },
  {
   "cell_type": "code",
   "execution_count": 3,
   "metadata": {},
   "outputs": [],
   "source": [
    "\n",
    "# Assuming 'df' is your DataFrame and 'date' is the name of the column containing dates\n",
    "start_date = df['date'][0]\n",
    "end_date = df['date'].iloc[-1]\n",
    "\n",
    "# Create a DataFrame with a date range\n",
    "df_holiday = pd.DataFrame(pd.date_range(start_date, end_date), columns=[\"date\"])\n",
    "\n",
    "# Function to detect holidays and convert to boolean\n",
    "def detect_holiday(desired_date, country_code=\"FI\", sub_dev=None):\n",
    "    # Initialize the holiday object for the given country\n",
    "    holiday = holidays.CountryHoliday(country_code, subdiv=sub_dev)\n",
    "    \n",
    "    # Check if the desired date is a holiday\n",
    "    return desired_date in holiday\n",
    "\n",
    "# Apply the detect_holiday function to each date in the DataFrame and convert to boolean\n",
    "df_holiday[\"holidayFinland\"] = df_holiday[\"date\"].apply(lambda x: detect_holiday(x))\n",
    "\n",
    "# Filter the DataFrame to keep only rows where 'holidayFinland' is True\n",
    "df_holiday = df_holiday[df_holiday['holidayFinland']]\n",
    "# Create a new DataFrame without the 'holidayFinland' column\n",
    "df_holiday = df_holiday.drop('holidayFinland', axis=1)\n"
   ]
  },
  {
   "cell_type": "code",
   "execution_count": 4,
   "metadata": {},
   "outputs": [],
   "source": [
    "df['formattedTimestamp'] = df['timestampFinland'].dt.strftime(\"%Y-%m-%dT%H:00\")\n",
    "df['formattedTimestamp'] = pd.to_datetime(df['formattedTimestamp'])\n",
    "\n",
    "df.rename(columns={'value': 'ctrlCmd'}, inplace=True)\n",
    "\n",
    "df['hour_week'] = ((df['formattedTimestamp'].dt.dayofweek) * 24+24) - (24 - df['formattedTimestamp'].dt.hour)\n",
    "df['isWeekend'] = df['hour_week'].between(113,167).astype(int)\n",
    "\n",
    "# Convert 'date' columns to datetime objects with date component only\n",
    "df_holiday['date'] = pd.to_datetime(df_holiday['date']).dt.date\n",
    "df['date'] = pd.to_datetime(df['date']).dt.date\n",
    "\n",
    "# Check if each date in 'date' column of df is in the 'date' column of df_holiday\n",
    "# Convert the result to integer (True -> 1, False -> 0) and assign it to 'isHoliday' column\n",
    "df['isHoliday'] = df['date'].isin(df_holiday['date']).astype(int)\n",
    "\n",
    "df = df.drop_duplicates(subset='formattedTimestamp', keep='first')\n",
    "\n",
    "\n"
   ]
  },
  {
   "cell_type": "code",
   "execution_count": 5,
   "metadata": {},
   "outputs": [],
   "source": [
    "file_path = 'weather_live.csv'\n",
    "df_weather_live = pd.read_csv(file_path)\n",
    "df_weather_live = pd.DataFrame(df_weather_live)\n",
    "\n",
    "df_weather_live['timestamp'] = pd.to_datetime(df_weather_live['timestamp'] // 1e9, unit='s')\n",
    "df_weather_live['timestamp'] = pd.to_datetime(df_weather_live['timestamp'])\n",
    "\n",
    "# Apply the conversion function to each timestamp in the DataFrame\n",
    "df_weather_live['timestampFinland'] = df_weather_live['timestamp'].apply(convert_to_finland)\n",
    "df_weather_live['formattedTimestamp'] = df_weather_live['timestampFinland'].dt.strftime(\"%Y-%m-%dT%H:00\")\n",
    "df_weather_live['formattedTimestamp'] = pd.to_datetime(df_weather_live['formattedTimestamp'])\n",
    "df_weather_live = df_weather_live[['timestamp','timestampFinland','formattedTimestamp','value']]\n",
    "df_weather_live = df_weather_live.sort_values(by='timestampFinland').reset_index()\n",
    "df_weather_live['date'] = df_weather_live['timestampFinland'].dt.date\n",
    "df_weather_live.rename(columns={'value': 'liveTemp'}, inplace=True)\n",
    "df_weather_live = df_weather_live.sort_values(by='formattedTimestamp')\n",
    "df_weather_live = df_weather_live.drop_duplicates(subset='formattedTimestamp', keep='first')"
   ]
  },
  {
   "cell_type": "code",
   "execution_count": 6,
   "metadata": {},
   "outputs": [],
   "source": [
    "file_path = 'weather_forecast.csv'\n",
    "df_weather_forecast = pd.read_csv(file_path)\n",
    "df_weather_forecast = pd.DataFrame(df_weather_forecast)\n",
    "\n",
    "df_weather_forecast['timestamp'] = pd.to_datetime(df_weather_forecast['timestamp'] // 1e9, unit='s')\n",
    "df_weather_forecast['timestamp'] = pd.to_datetime(df_weather_forecast['timestamp'])\n",
    "\n",
    "# Apply the conversion function to each timestamp in the DataFrame\n",
    "df_weather_forecast['timestampFinland'] = df_weather_forecast['timestamp'].apply(convert_to_finland)\n",
    "df_weather_forecast['formattedTimestamp'] = df_weather_forecast['timestampFinland'].dt.strftime(\"%Y-%m-%dT%H:00\")\n",
    "df_weather_forecast['formattedTimestamp'] = pd.to_datetime(df_weather_forecast['formattedTimestamp'])\n",
    "\n",
    "df_weather_forecast = df_weather_forecast[['formattedTimestamp','value']]\n",
    "df_weather_forecast = df_weather_forecast.sort_values(by='formattedTimestamp').reset_index()\n",
    "df_weather_forecast.rename(columns={'value': 'forecastTemp'}, inplace=True)\n",
    "df_weather_forecast = df_weather_forecast.sort_values(by='formattedTimestamp')\n",
    "df_weather_forecast = df_weather_forecast.drop_duplicates(subset='formattedTimestamp', keep='first')\n",
    "df_weather_forecast['forecastTemp'] = df_weather_forecast['forecastTemp'].shift(-12)\n"
   ]
  },
  {
   "cell_type": "code",
   "execution_count": 7,
   "metadata": {},
   "outputs": [],
   "source": [
    "df_weather_live = pd.merge_ordered(df_weather_live,df_weather_forecast,on='formattedTimestamp')\n",
    "df_weather_live.dropna(inplace=True)\n",
    "df_weather_live = df_weather_live[['formattedTimestamp','liveTemp','forecastTemp']]\n"
   ]
  },
  {
   "cell_type": "code",
   "execution_count": 8,
   "metadata": {},
   "outputs": [],
   "source": [
    "df_weather_live['tempDiff'] = df_weather_live['liveTemp']-df_weather_live['forecastTemp']"
   ]
  },
  {
   "cell_type": "code",
   "execution_count": 9,
   "metadata": {},
   "outputs": [],
   "source": [
    "df = df[['formattedTimestamp','ctrlCmd','hour_week','isWeekend']]"
   ]
  },
  {
   "cell_type": "code",
   "execution_count": 10,
   "metadata": {},
   "outputs": [],
   "source": [
    "df = pd.merge_ordered(df,df_weather_live,on='formattedTimestamp')"
   ]
  },
  {
   "cell_type": "code",
   "execution_count": 11,
   "metadata": {},
   "outputs": [],
   "source": [
    "df.dropna(inplace=True)"
   ]
  },
  {
   "cell_type": "code",
   "execution_count": 12,
   "metadata": {},
   "outputs": [],
   "source": [
    "df = df[['formattedTimestamp','ctrlCmd','liveTemp','forecastTemp','isWeekend','tempDiff']]\n"
   ]
  },
  {
   "cell_type": "code",
   "execution_count": 13,
   "metadata": {},
   "outputs": [],
   "source": [
    "df.loc[:, 'avg_liveTemp_next_three_hours'] = df['liveTemp'].rolling(window=3, min_periods=1).mean().shift(-3).round(2)\n",
    "df.loc[:, 'avg_forecastTemp_next_three_hours'] = df['forecastTemp'].rolling(window=3, min_periods=1).mean().shift(-3).round(2)\n",
    "df['avg_tempDiff'] = df['avg_liveTemp_next_three_hours']-df['avg_forecastTemp_next_three_hours']"
   ]
  },
  {
   "cell_type": "code",
   "execution_count": 31,
   "metadata": {},
   "outputs": [],
   "source": [
    "x = df[['ctrlCmd','isWeekend','tempDiff','avg_tempDiff']]\n",
    "x.loc[:, 'isWeekend'] += 1\n"
   ]
  },
  {
   "cell_type": "code",
   "execution_count": 32,
   "metadata": {},
   "outputs": [],
   "source": [
    "x.reset_index(drop=True, inplace=True)\n",
    "x.loc[:, 'ctrlCmd'] += 4\n",
    "x.loc[x['isWeekend'] == 2, 'isWeekend'] *= 5\n",
    "x.loc[:, 'tempDiff'] = x['tempDiff'].round(2)\n",
    "x.loc[:, 'avg_tempDiff'] = x['avg_tempDiff'].round(2)"
   ]
  },
  {
   "cell_type": "code",
   "execution_count": 33,
   "metadata": {},
   "outputs": [
    {
     "data": {
      "text/plain": [
       "array([5., 6., 7., 4., 3., 2., 1.])"
      ]
     },
     "execution_count": 33,
     "metadata": {},
     "output_type": "execute_result"
    }
   ],
   "source": [
    "x['ctrlCmd'].unique()"
   ]
  },
  {
   "cell_type": "code",
   "execution_count": 34,
   "metadata": {},
   "outputs": [],
   "source": [
    "x.to_csv('beedataML.csv', index=False)\n"
   ]
  },
  {
   "cell_type": "code",
   "execution_count": null,
   "metadata": {},
   "outputs": [],
   "source": []
  },
  {
   "cell_type": "code",
   "execution_count": null,
   "metadata": {},
   "outputs": [],
   "source": []
  }
 ],
 "metadata": {
  "kernelspec": {
   "display_name": "base",
   "language": "python",
   "name": "python3"
  },
  "language_info": {
   "codemirror_mode": {
    "name": "ipython",
    "version": 3
   },
   "file_extension": ".py",
   "mimetype": "text/x-python",
   "name": "python",
   "nbconvert_exporter": "python",
   "pygments_lexer": "ipython3",
   "version": "3.11.5"
  }
 },
 "nbformat": 4,
 "nbformat_minor": 2
}

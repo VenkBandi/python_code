{
 "cells": [
  {
   "cell_type": "markdown",
   "metadata": {},
   "source": []
  },
  {
   "cell_type": "code",
   "execution_count": 4,
   "metadata": {},
   "outputs": [
    {
     "data": {
      "text/plain": [
       "200"
      ]
     },
     "execution_count": 4,
     "metadata": {},
     "output_type": "execute_result"
    }
   ],
   "source": [
    "import requests\n",
    "import os\n",
    "from PIL import Image\n",
    "from IPython.display import IFrame\n",
    "\n",
    "url = 'https://www.ibm.com/'\n",
    "r = requests.get(url)\n",
    "r.status_code\n"
   ]
  },
  {
   "cell_type": "code",
   "execution_count": 9,
   "metadata": {},
   "outputs": [
    {
     "name": "stdout",
     "output_type": "stream",
     "text": [
      "{'User-Agent': 'python-requests/2.31.0', 'Accept-Encoding': 'gzip, deflate, br', 'Accept': '*/*', 'Connection': 'keep-alive'}\n",
      "request body:  None\n"
     ]
    }
   ],
   "source": [
    "print(r.request.headers)\n",
    "print('request body: ',r.request.body)"
   ]
  },
  {
   "cell_type": "code",
   "execution_count": 24,
   "metadata": {},
   "outputs": [
    {
     "name": "stdout",
     "output_type": "stream",
     "text": [
      "Suzanna Scott   suzanna.scott@example.com https://randomuser.me/api/portraits/women/36.jpg\n",
      "Melati Slegers   melati.slegers@example.com https://randomuser.me/api/portraits/women/42.jpg\n",
      "Magdo Farias   magdo.farias@example.com https://randomuser.me/api/portraits/men/35.jpg\n",
      "Salvador Martin   salvador.martin@example.com https://randomuser.me/api/portraits/men/72.jpg\n",
      "Tyler Harris   tyler.harris@example.com https://randomuser.me/api/portraits/men/42.jpg\n",
      "Hermine Morel   hermine.morel@example.com https://randomuser.me/api/portraits/women/2.jpg\n",
      "Georgia Turner   georgia.turner@example.com https://randomuser.me/api/portraits/women/25.jpg\n",
      "Jeff Simmons   jeff.simmons@example.com https://randomuser.me/api/portraits/men/83.jpg\n",
      "Jonathan Santiago   jonathan.santiago@example.com https://randomuser.me/api/portraits/men/45.jpg\n",
      "Candelária da Luz   candelaria.daluz@example.com https://randomuser.me/api/portraits/women/45.jpg\n"
     ]
    }
   ],
   "source": [
    "from randomuser import RandomUser\n",
    "import pandas as pd\n",
    "r = RandomUser()\n",
    "some_list = r.generate_users(10)\n",
    "name = r.get_full_name()\n",
    "for user in some_list:\n",
    "    print(user.get_full_name(),\" \",user.get_email(), user.get_picture())\n",
    "\n"
   ]
  },
  {
   "cell_type": "code",
   "execution_count": 25,
   "metadata": {},
   "outputs": [
    {
     "data": {
      "text/html": [
       "<div>\n",
       "<style scoped>\n",
       "    .dataframe tbody tr th:only-of-type {\n",
       "        vertical-align: middle;\n",
       "    }\n",
       "\n",
       "    .dataframe tbody tr th {\n",
       "        vertical-align: top;\n",
       "    }\n",
       "\n",
       "    .dataframe thead th {\n",
       "        text-align: right;\n",
       "    }\n",
       "</style>\n",
       "<table border=\"1\" class=\"dataframe\">\n",
       "  <thead>\n",
       "    <tr style=\"text-align: right;\">\n",
       "      <th></th>\n",
       "      <th>Name</th>\n",
       "      <th>Gender</th>\n",
       "      <th>City</th>\n",
       "      <th>State</th>\n",
       "      <th>Email</th>\n",
       "      <th>DOB</th>\n",
       "      <th>Picture</th>\n",
       "    </tr>\n",
       "  </thead>\n",
       "  <tbody>\n",
       "    <tr>\n",
       "      <th>0</th>\n",
       "      <td>Gladys Wells</td>\n",
       "      <td>female</td>\n",
       "      <td>Kalgoorlie</td>\n",
       "      <td>New South Wales</td>\n",
       "      <td>gladys.wells@example.com</td>\n",
       "      <td>1992-08-18T13:27:05.212Z</td>\n",
       "      <td>https://randomuser.me/api/portraits/women/33.jpg</td>\n",
       "    </tr>\n",
       "    <tr>\n",
       "      <th>1</th>\n",
       "      <td>Harriet Walker</td>\n",
       "      <td>female</td>\n",
       "      <td>Porirua</td>\n",
       "      <td>Nelson</td>\n",
       "      <td>harriet.walker@example.com</td>\n",
       "      <td>1963-03-25T16:05:56.748Z</td>\n",
       "      <td>https://randomuser.me/api/portraits/women/18.jpg</td>\n",
       "    </tr>\n",
       "    <tr>\n",
       "      <th>2</th>\n",
       "      <td>Jeremy Little</td>\n",
       "      <td>male</td>\n",
       "      <td>Queanbeyan</td>\n",
       "      <td>New South Wales</td>\n",
       "      <td>jeremy.little@example.com</td>\n",
       "      <td>1962-10-06T14:32:59.434Z</td>\n",
       "      <td>https://randomuser.me/api/portraits/men/20.jpg</td>\n",
       "    </tr>\n",
       "    <tr>\n",
       "      <th>3</th>\n",
       "      <td>Freya Patel</td>\n",
       "      <td>female</td>\n",
       "      <td>New Plymouth</td>\n",
       "      <td>Otago</td>\n",
       "      <td>freya.patel@example.com</td>\n",
       "      <td>1988-12-28T00:21:24.473Z</td>\n",
       "      <td>https://randomuser.me/api/portraits/women/0.jpg</td>\n",
       "    </tr>\n",
       "    <tr>\n",
       "      <th>4</th>\n",
       "      <td>Dianne Hughes</td>\n",
       "      <td>female</td>\n",
       "      <td>Geelong</td>\n",
       "      <td>Queensland</td>\n",
       "      <td>dianne.hughes@example.com</td>\n",
       "      <td>1983-04-27T16:09:46.632Z</td>\n",
       "      <td>https://randomuser.me/api/portraits/women/67.jpg</td>\n",
       "    </tr>\n",
       "    <tr>\n",
       "      <th>5</th>\n",
       "      <td>Yagmur Kerkman</td>\n",
       "      <td>female</td>\n",
       "      <td>Noordsche Schut</td>\n",
       "      <td>Zeeland</td>\n",
       "      <td>yagmur.kerkman@example.com</td>\n",
       "      <td>1959-09-17T10:23:11.358Z</td>\n",
       "      <td>https://randomuser.me/api/portraits/women/27.jpg</td>\n",
       "    </tr>\n",
       "    <tr>\n",
       "      <th>6</th>\n",
       "      <td>Morgane Morin</td>\n",
       "      <td>female</td>\n",
       "      <td>Le Mans</td>\n",
       "      <td>Orne</td>\n",
       "      <td>morgane.morin@example.com</td>\n",
       "      <td>1996-09-29T22:13:58.890Z</td>\n",
       "      <td>https://randomuser.me/api/portraits/women/48.jpg</td>\n",
       "    </tr>\n",
       "    <tr>\n",
       "      <th>7</th>\n",
       "      <td>Mads Rasmussen</td>\n",
       "      <td>male</td>\n",
       "      <td>Vipperød</td>\n",
       "      <td>Nordjylland</td>\n",
       "      <td>mads.rasmussen@example.com</td>\n",
       "      <td>1946-06-07T10:48:22.648Z</td>\n",
       "      <td>https://randomuser.me/api/portraits/men/50.jpg</td>\n",
       "    </tr>\n",
       "    <tr>\n",
       "      <th>8</th>\n",
       "      <td>Willie Gilbert</td>\n",
       "      <td>male</td>\n",
       "      <td>Bath</td>\n",
       "      <td>Nottinghamshire</td>\n",
       "      <td>willie.gilbert@example.com</td>\n",
       "      <td>1981-06-27T21:24:38.927Z</td>\n",
       "      <td>https://randomuser.me/api/portraits/men/76.jpg</td>\n",
       "    </tr>\n",
       "    <tr>\n",
       "      <th>9</th>\n",
       "      <td>Ella Vasquez</td>\n",
       "      <td>female</td>\n",
       "      <td>St Albans</td>\n",
       "      <td>Northamptonshire</td>\n",
       "      <td>ella.vasquez@example.com</td>\n",
       "      <td>1982-08-14T22:10:06.530Z</td>\n",
       "      <td>https://randomuser.me/api/portraits/women/87.jpg</td>\n",
       "    </tr>\n",
       "  </tbody>\n",
       "</table>\n",
       "</div>"
      ],
      "text/plain": [
       "             Name  Gender             City             State  \\\n",
       "0    Gladys Wells  female       Kalgoorlie   New South Wales   \n",
       "1  Harriet Walker  female          Porirua            Nelson   \n",
       "2   Jeremy Little    male       Queanbeyan   New South Wales   \n",
       "3     Freya Patel  female     New Plymouth             Otago   \n",
       "4   Dianne Hughes  female          Geelong        Queensland   \n",
       "5  Yagmur Kerkman  female  Noordsche Schut           Zeeland   \n",
       "6   Morgane Morin  female          Le Mans              Orne   \n",
       "7  Mads Rasmussen    male         Vipperød       Nordjylland   \n",
       "8  Willie Gilbert    male             Bath   Nottinghamshire   \n",
       "9    Ella Vasquez  female        St Albans  Northamptonshire   \n",
       "\n",
       "                        Email                       DOB  \\\n",
       "0    gladys.wells@example.com  1992-08-18T13:27:05.212Z   \n",
       "1  harriet.walker@example.com  1963-03-25T16:05:56.748Z   \n",
       "2   jeremy.little@example.com  1962-10-06T14:32:59.434Z   \n",
       "3     freya.patel@example.com  1988-12-28T00:21:24.473Z   \n",
       "4   dianne.hughes@example.com  1983-04-27T16:09:46.632Z   \n",
       "5  yagmur.kerkman@example.com  1959-09-17T10:23:11.358Z   \n",
       "6   morgane.morin@example.com  1996-09-29T22:13:58.890Z   \n",
       "7  mads.rasmussen@example.com  1946-06-07T10:48:22.648Z   \n",
       "8  willie.gilbert@example.com  1981-06-27T21:24:38.927Z   \n",
       "9    ella.vasquez@example.com  1982-08-14T22:10:06.530Z   \n",
       "\n",
       "                                            Picture  \n",
       "0  https://randomuser.me/api/portraits/women/33.jpg  \n",
       "1  https://randomuser.me/api/portraits/women/18.jpg  \n",
       "2    https://randomuser.me/api/portraits/men/20.jpg  \n",
       "3   https://randomuser.me/api/portraits/women/0.jpg  \n",
       "4  https://randomuser.me/api/portraits/women/67.jpg  \n",
       "5  https://randomuser.me/api/portraits/women/27.jpg  \n",
       "6  https://randomuser.me/api/portraits/women/48.jpg  \n",
       "7    https://randomuser.me/api/portraits/men/50.jpg  \n",
       "8    https://randomuser.me/api/portraits/men/76.jpg  \n",
       "9  https://randomuser.me/api/portraits/women/87.jpg  "
      ]
     },
     "execution_count": 25,
     "metadata": {},
     "output_type": "execute_result"
    }
   ],
   "source": [
    "def get_users():\n",
    "    users =[]\n",
    "     \n",
    "    for user in RandomUser.generate_users(10):\n",
    "        users.append({\"Name\":user.get_full_name(),\"Gender\":user.get_gender(),\"City\":user.get_city(),\"State\":user.get_state(),\"Email\":user.get_email(), \"DOB\":user.get_dob(),\"Picture\":user.get_picture()})\n",
    "      \n",
    "    return pd.DataFrame(users)     \n",
    "get_users()"
   ]
  },
  {
   "cell_type": "code",
   "execution_count": 30,
   "metadata": {},
   "outputs": [],
   "source": [
    "df1 = pd.DataFrame(get_users())"
   ]
  },
  {
   "cell_type": "code",
   "execution_count": 43,
   "metadata": {},
   "outputs": [
    {
     "name": "stdout",
     "output_type": "stream",
     "text": [
      "      name  id    family    order   genus  nutritions.calories  \\\n",
      "37  Cherry   9  Rosaceae  Rosales  Prunus                   50   \n",
      "\n",
      "    nutritions.fat  nutritions.sugar  nutritions.carbohydrates  \\\n",
      "37             0.3               8.0                      12.0   \n",
      "\n",
      "    nutritions.protein  \n",
      "37                 1.0  \n"
     ]
    },
    {
     "data": {
      "text/plain": [
       "('Rosaceae', 'Prunus')"
      ]
     },
     "execution_count": 43,
     "metadata": {},
     "output_type": "execute_result"
    }
   ],
   "source": [
    "import json\n",
    "data = requests.get(\"https://fruityvice.com/api/fruit/all\")\n",
    "result = json.ldsoa(data.text)\n",
    "\n",
    "df2 = pd.json_normalize(result)\n",
    "cherry = df2.loc[df2[\"name\"] == 'Cherry']\n",
    "print(cherry)\n",
    "(cherry.iloc[0]['family']) , (cherry.iloc[0]['genus'])"
   ]
  },
  {
   "cell_type": "code",
   "execution_count": 56,
   "metadata": {},
   "outputs": [
    {
     "data": {
      "text/html": [
       "<div>\n",
       "<style scoped>\n",
       "    .dataframe tbody tr th:only-of-type {\n",
       "        vertical-align: middle;\n",
       "    }\n",
       "\n",
       "    .dataframe tbody tr th {\n",
       "        vertical-align: top;\n",
       "    }\n",
       "\n",
       "    .dataframe thead th {\n",
       "        text-align: right;\n",
       "    }\n",
       "</style>\n",
       "<table border=\"1\" class=\"dataframe\">\n",
       "  <thead>\n",
       "    <tr style=\"text-align: right;\">\n",
       "      <th></th>\n",
       "      <th>setup</th>\n",
       "      <th>punchline</th>\n",
       "    </tr>\n",
       "  </thead>\n",
       "  <tbody>\n",
       "    <tr>\n",
       "      <th>0</th>\n",
       "      <td>What’s the object-oriented way to become wealthy?</td>\n",
       "      <td>Inheritance.</td>\n",
       "    </tr>\n",
       "    <tr>\n",
       "      <th>1</th>\n",
       "      <td>How many kids with ADD does it take to change ...</td>\n",
       "      <td>Let's go ride bikes!</td>\n",
       "    </tr>\n",
       "    <tr>\n",
       "      <th>2</th>\n",
       "      <td>Can a kangaroo jump higher than the Empire Sta...</td>\n",
       "      <td>Of course. The Empire State Building can't jump.</td>\n",
       "    </tr>\n",
       "    <tr>\n",
       "      <th>3</th>\n",
       "      <td>Who did the wizard marry?</td>\n",
       "      <td>His ghoul-friend</td>\n",
       "    </tr>\n",
       "    <tr>\n",
       "      <th>4</th>\n",
       "      <td>What is red and smells like blue paint?</td>\n",
       "      <td>Red paint!</td>\n",
       "    </tr>\n",
       "  </tbody>\n",
       "</table>\n",
       "</div>"
      ],
      "text/plain": [
       "                                               setup  \\\n",
       "0  What’s the object-oriented way to become wealthy?   \n",
       "1  How many kids with ADD does it take to change ...   \n",
       "2  Can a kangaroo jump higher than the Empire Sta...   \n",
       "3                          Who did the wizard marry?   \n",
       "4            What is red and smells like blue paint?   \n",
       "\n",
       "                                          punchline  \n",
       "0                                      Inheritance.  \n",
       "1                              Let's go ride bikes!  \n",
       "2  Of course. The Empire State Building can't jump.  \n",
       "3                                  His ghoul-friend  \n",
       "4                                        Red paint!  "
      ]
     },
     "execution_count": 56,
     "metadata": {},
     "output_type": "execute_result"
    }
   ],
   "source": [
    "url = 'https://official-joke-api.appspot.com/jokes/ten'\n",
    "r = requests.get(url)\n",
    "results2 = json.loads(r.text)\n",
    "results2 = pd.DataFrame(results2)\n",
    "results2.head()\n",
    "results2.drop(columns= ['type','id'],inplace= True)\n",
    "results2.head()\n",
    "\n"
   ]
  },
  {
   "cell_type": "code",
   "execution_count": null,
   "metadata": {},
   "outputs": [],
   "source": []
  }
 ],
 "metadata": {
  "kernelspec": {
   "display_name": "base",
   "language": "python",
   "name": "python3"
  },
  "language_info": {
   "codemirror_mode": {
    "name": "ipython",
    "version": 3
   },
   "file_extension": ".py",
   "mimetype": "text/x-python",
   "name": "python",
   "nbconvert_exporter": "python",
   "pygments_lexer": "ipython3",
   "version": "3.11.5"
  }
 },
 "nbformat": 4,
 "nbformat_minor": 2
}
